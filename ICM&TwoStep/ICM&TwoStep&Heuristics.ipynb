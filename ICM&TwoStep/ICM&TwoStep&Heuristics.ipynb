{
  "nbformat": 4,
  "nbformat_minor": 0,
  "metadata": {
    "colab": {
      "name": "ICM&TwoStep&Heuristics.ipynb",
      "provenance": [],
      "collapsed_sections": [],
      "authorship_tag": "ABX9TyOvWKIEy/76b6UgcYzSfgx5",
      "include_colab_link": true
    },
    "kernelspec": {
      "name": "python3",
      "display_name": "Python 3"
    },
    "accelerator": "GPU"
  },
  "cells": [
    {
      "cell_type": "markdown",
      "metadata": {
        "id": "view-in-github",
        "colab_type": "text"
      },
      "source": [
        "<a href=\"https://colab.research.google.com/github/athankefalas/TrafficCongestionSNA/blob/master/ICM%26TwoStep/ICM%26TwoStep%26Heuristics.ipynb\" target=\"_parent\"><img src=\"https://colab.research.google.com/assets/colab-badge.svg\" alt=\"Open In Colab\"/></a>"
      ]
    },
    {
      "cell_type": "code",
      "metadata": {
        "id": "JKu1T2bFmVL_",
        "colab_type": "code",
        "colab": {}
      },
      "source": [
        "import networkx as nx\n",
        "import numpy as np\n",
        "import random\n",
        "import matplotlib.pyplot as plt\n",
        "from operator import add "
      ],
      "execution_count": 0,
      "outputs": []
    },
    {
      "cell_type": "code",
      "metadata": {
        "id": "xTBRsE4V9fgm",
        "colab_type": "code",
        "colab": {}
      },
      "source": [
        "#download graph from drive\n",
        "from google.colab import drive\n",
        "drive.mount('/content/drive')"
      ],
      "execution_count": 0,
      "outputs": []
    },
    {
      "cell_type": "code",
      "metadata": {
        "id": "w4X_pa0Y9m77",
        "colab_type": "code",
        "colab": {}
      },
      "source": [
        "#make sure to provide the correct path for every graph\n",
        "file1 = '/content/drive/My Drive/SNA/Data/ia-email-univ/ia-email-univ.mtx' #google drive path\n",
        "file2 = '/content/drive/My Drive/SNA/Data/ia-fb-messages/ia-fb-messages.mtx'\n",
        "file3 = '/content/drive/My Drive/SNA/Data/ia-email-EU/ia-email-EU.mtx'\n",
        "file=file3\n",
        "g = nx.readwrite.read_adjlist(file,comments=\"%\")"
      ],
      "execution_count": 0,
      "outputs": []
    },
    {
      "cell_type": "code",
      "metadata": {
        "id": "_Ch_vDXPx0QW",
        "colab_type": "code",
        "colab": {}
      },
      "source": [
        "#number of nodes\n",
        "nodes = len(g.nodes())\n",
        "print(\"The number of nodes is\",nodes)\n",
        "#number of edges\n",
        "edges = len(g.edges())\n",
        "print(\"The number of edges is\", edges)\n",
        "#max_degree\n",
        "max_degree=max(dict(g.degree()).items(), key = lambda x : x[1])[1]\n",
        "print(\"The maximum degree is:\", max_degree)\n",
        "\n"
      ],
      "execution_count": 0,
      "outputs": []
    },
    {
      "cell_type": "code",
      "metadata": {
        "id": "YFRuPFAmMPfb",
        "colab_type": "code",
        "colab": {}
      },
      "source": [
        "#g.edges()"
      ],
      "execution_count": 0,
      "outputs": []
    },
    {
      "cell_type": "code",
      "metadata": {
        "id": "bzFWHlNO2uMj",
        "colab_type": "code",
        "colab": {}
      },
      "source": [
        "if not g.is_directed():\n",
        "    g = g.to_directed()"
      ],
      "execution_count": 0,
      "outputs": []
    },
    {
      "cell_type": "code",
      "metadata": {
        "id": "QAIptVUUBJro",
        "colab_type": "code",
        "colab": {}
      },
      "source": [
        "#top five nodes with the highest degree centrality\n",
        "degree_centrality=nx.degree_centrality(g)\n",
        "sorted_degree_centrality=sorted(degree_centrality.items(), key=lambda x: x[1], reverse=True)[:5]\n",
        "top_degree_centrality_nodes=[i[0] for i in sorted_degree_centrality]\n",
        "print(\"The five nodes with the highest degree centrality scores are: \", top_degree_centrality_nodes)\n",
        "\n"
      ],
      "execution_count": 0,
      "outputs": []
    },
    {
      "cell_type": "code",
      "metadata": {
        "id": "_MGKYIH5PYFn",
        "colab_type": "code",
        "colab": {}
      },
      "source": [
        "# #top five nodes with the highest closeness centrality\n",
        "# closeness_centrality=nx.closeness_centrality(g)\n",
        "# sorted_closeness_centrality=sorted(closeness_centrality.items(), key=lambda x: x[1], reverse=True)[:5]\n",
        "# top_closeness_centrality_nodes=[i[0] for i in sorted_closeness_centrality]\n",
        "# print(\"The five nodes with the highest closeness centrality scores are: \", top_closeness_centrality_nodes)\n",
        "\n",
        "# #top five nodes with the highest betweenness centrality\n",
        "# betweenness_centrality=nx.betweenness_centrality(g)\n",
        "# sorted_betweenness_centrality=sorted(betweenness_centrality.items(), key=lambda x: x[1], reverse=True)[:5]\n",
        "# top_betweenness_centrality_nodes=[i[0] for i in sorted_betweenness_centrality]\n",
        "# print(\"The five nodes with the highest betweenness centrality scores are: \", top_betweenness_centrality_nodes)"
      ],
      "execution_count": 0,
      "outputs": []
    },
    {
      "cell_type": "code",
      "metadata": {
        "id": "s9Rzt1NCCGaN",
        "colab_type": "code",
        "colab": {}
      },
      "source": [
        "# #nodes with the highest pagerank\n",
        "# pageranked = nx.pagerank(g, alpha=0.85)\n",
        "# sorted_pageranked = sorted(pageranked.items(), key=lambda x: x[1], reverse=True)[:5]\n",
        "# top_pageranked_nodes = [i[0] for i in sorted_pageranked]\n",
        "# print(\"The five nodes with the highest PageRank scores are: \", top_pageranked_nodes)\n",
        "\n",
        "# #nodes with the highest hub scores(HITS Algorithm)\n",
        "# hubscore = nx.hits(g)\n",
        "# sorted_hubscore = sorted(hubscore[0].items(), key=lambda x: x[1], reverse=True)[:5]\n",
        "# top_hubscore_nodes = [i[0] for i in sorted_hubscore]\n",
        "# print(\"The five nodes with the highest hub scores are: \", top_hubscore_nodes)\n",
        "\n",
        "# #nodes with the highest authority scores(HITS Algorithm)\n",
        "# authorityscore = nx.hits(g)\n",
        "# sorted_authorityscore = sorted(authorityscore[1].items(), key=lambda x: x[1], reverse=True)[:5]\n",
        "# top_authorityscore_nodes = [i[0] for i in sorted_authorityscore]\n",
        "# print(\"The five nodes with the highest authority scores are: \", top_authorityscore_nodes)"
      ],
      "execution_count": 0,
      "outputs": []
    },
    {
      "cell_type": "code",
      "metadata": {
        "id": "8l6hiHWbWb57",
        "colab_type": "code",
        "colab": {}
      },
      "source": [
        "#FUNCTION to set activation RANDOM probabilities \n",
        "def set_activation_probabilities(G):\n",
        "  attr={}\n",
        "  for edge in G.edges():\n",
        "    attr.update( {edge : np.random.uniform(0.0, 0.1)})\n",
        "                                                 \n",
        "  nx.set_edge_attributes(G, attr, 'prob')\n",
        "  \n",
        "  return G"
      ],
      "execution_count": 0,
      "outputs": []
    },
    {
      "cell_type": "code",
      "metadata": {
        "id": "NNbP3MK4R_ed",
        "colab_type": "code",
        "colab": {}
      },
      "source": [
        "g=set_activation_probabilities(g)"
      ],
      "execution_count": 0,
      "outputs": []
    },
    {
      "cell_type": "code",
      "metadata": {
        "id": "Qk3e7wlkb7aW",
        "colab_type": "code",
        "colab": {}
      },
      "source": [
        "#FUNCTION for each iteration of diffusion process \n",
        "def diffusion_process(Graph,Seed,Visited):\n",
        "  iter_activations = set()   #this iteration's activations\n",
        "  iter_visits = set()        #this iteration's visits\n",
        "  for s in Seed:\n",
        "    for n in Graph.successors(s):  #successor of n is a node m such that there exists a directed edge from n to m\n",
        "      if (s, n) in Visited or (s, n) in iter_visits or  n in Seed:   #check if successor was visited before, or seed tried before\n",
        "        continue\n",
        "      \n",
        "      diffusion_prob = g[s][n]['prob']\n",
        "      activation_prob = np.random.uniform(0.0, 1.0)\n",
        "      activation = activation_prob >= (1.0-diffusion_prob)\n",
        "      \n",
        "      if activation:               \n",
        "        iter_activations.add(n)\n",
        "\n",
        "      iter_visits.add((s, n))\n",
        "\n",
        "  iter_activations = list(iter_activations)\n",
        "  Seed.extend(iter_activations)\n",
        "  return Seed, iter_activations, iter_visits"
      ],
      "execution_count": 0,
      "outputs": []
    },
    {
      "cell_type": "code",
      "metadata": {
        "id": "9jHl32muiWVJ",
        "colab_type": "code",
        "colab": {}
      },
      "source": [
        "#FUNCTION for ICM and two step ICM \n",
        "def ICM(g,start_seeds,num_iter,multi_step=False,step_iter=0):\n",
        "  visited_edges = set() \n",
        "  activated_nodes = []\n",
        "  num_nodes=[]\n",
        "  \n",
        "  \n",
        "  if multi_step==True:  #split the seed nodes to 2 groups for two step\n",
        "    \n",
        "    multi_seeds=start_seeds[len(start_seeds)//2:]\n",
        "    seeds=start_seeds[0:len(start_seeds)//2]\n",
        "       \n",
        "  else:\n",
        "    seeds=start_seeds\n",
        "      \n",
        "  len_seeds=len(seeds)\n",
        "    \n",
        "  for s in seeds:\n",
        "    activated_nodes.append(s)\n",
        "  num_nodes.append(len_seeds)\n",
        "  \n",
        "  while True:\n",
        "    len_seeds=len(seeds)\n",
        "    \n",
        "    if multi_step==True and num_iter==step_iter: #activate multi_seeds\n",
        "      for s in multi_seeds:\n",
        "        seeds.append(s)\n",
        "      \n",
        "    seeds, iter_activations, iter_visits = diffusion_process(g, seeds, visited_edges)\n",
        "    \n",
        "    num_nodes.append(len(iter_activations))\n",
        "    \n",
        "    for i in iter_activations:\n",
        "      activated_nodes.append(i)\n",
        "    visited_edges = visited_edges.union(iter_visits)\n",
        "    \n",
        "    if len(seeds) == len_seeds:\n",
        "      break\n",
        "    len_seeds=len(seeds)\n",
        "    num_iter-= 1\n",
        "    if not num_iter or len(seeds) >= len(g):\n",
        "      break\n",
        "\n",
        "  return activated_nodes,num_nodes"
      ],
      "execution_count": 0,
      "outputs": []
    },
    {
      "cell_type": "code",
      "metadata": {
        "id": "V76NU2jT8nlW",
        "colab_type": "code",
        "colab": {}
      },
      "source": [
        "#simple ICM\n",
        "\n",
        "affected_avg1 = 0.0\n",
        "#how many times the diffusion will happen with the same seeds\n",
        "count1=500\n",
        "#number of iterations \n",
        "num_iter1=20\n",
        "avg_activations1=[]\n",
        "for n in range(0, count1):\n",
        "    #create seed nodes\n",
        "    seeds1=top_degree_centrality_nodes[:5] \n",
        "    \n",
        "    num_iter1=20\n",
        "    if n==0:\n",
        "      print('Diffusion model : ICM')\n",
        "      print('Starting diffusion for', num_iter1,'iterations, with starting seed nodes:',seeds1)\n",
        "    \n",
        "    affected1,activations1 = ICM(g,seeds1,num_iter1)\n",
        "    \n",
        "    affected_avg1 += len(affected1)\n",
        "    \n",
        "    if len(avg_activations1)<len(list(activations1)):\n",
        "      ext=len(list(activations1))- len(avg_activations1)\n",
        "      avg_activations1.extend([0]*ext)\n",
        "\n",
        "    avg_activations1 = list(map(add, avg_activations1, activations1))\n",
        "    \n",
        "\n",
        "act_n1=affected_avg1 / count1\n",
        "act_per_iter1=[x//(count1) for x in avg_activations1]\n",
        "while act_per_iter1[-1] == 0:\n",
        "        act_per_iter1.pop() \n",
        "print(\"Average nodes activated:\",int(act_n1))\n",
        "print(\"Average activations per iteration\",act_per_iter1)\n",
        "\n"
      ],
      "execution_count": 0,
      "outputs": []
    },
    {
      "cell_type": "code",
      "metadata": {
        "id": "BmKKEmoSRkJO",
        "colab_type": "code",
        "colab": {}
      },
      "source": [
        "#Two step ICM\n",
        "step=3\n",
        "affected_avg2 = 0.0\n",
        "count2=500\n",
        "#number of iterations\n",
        "num_iter2=20\n",
        "avg_activations2=[0]*20\n",
        "for n in range(0, count2):\n",
        "    #create seed nodes\n",
        "    seeds2=top_degree_centrality_nodes[:5] \n",
        "    \n",
        "    \n",
        "    if n==0:\n",
        "      print('Diffusion model : Two step ICM')\n",
        "      print('Starting diffusion for', num_iter2,'iterations, with seed nodes:',seeds2[len(seeds2)//2:],'and additional seed nodes:',seeds2[0:len(seeds2)//2],'added at',step,'iterations')\n",
        "    \n",
        "    affected2,activations2=ICM(g,seeds2,num_iter2,multi_step=True,step_iter=step)\n",
        "    \n",
        "    affected_avg2 += len(affected2)\n",
        "    \n",
        "    if len(avg_activations2)<len(list(activations2)):\n",
        "      ext = len(list(activations2)) - len(avg_activations2)\n",
        "      avg_activations2.extend([0]*ext)\n",
        "\n",
        "    avg_activations2 = list(map(add, avg_activations2, activations2))\n",
        "    \n",
        "  \n",
        "\n",
        "act_per_iter2=[x//(count2) for x in avg_activations2]\n",
        "while act_per_iter2[-1] == 0:\n",
        "        act_per_iter2.pop()\n",
        "act_n2=affected_avg2 / count2\n",
        "print(\"Average nodes activated:\",int(act_n2))\n",
        "print(\"Indicative activations per iteration\",act_per_iter2)\n"
      ],
      "execution_count": 0,
      "outputs": []
    },
    {
      "cell_type": "code",
      "metadata": {
        "id": "yZd4BUdN-NCS",
        "colab_type": "code",
        "cellView": "both",
        "colab": {}
      },
      "source": [
        "plt.figure(figsize=(9,6))\n",
        "\n",
        "line_up,=plt.plot(act_per_iter1,'b', label='ICM')\n",
        "line_down,=plt.plot(act_per_iter2,'g', label='Two Step ICM')\n",
        "plt.legend(handles=[line_up, line_down])\n",
        "\n",
        "if file==file1:\n",
        "  plt.title('Average activations per itteration for ia-email-univ')\n",
        "elif file==file2:\n",
        "  plt.title('Average activations per itteration for ia-fb-messages')\n",
        "elif file==file3:\n",
        "  plt.title('Average activations per itteration for ia-email-EU')\n",
        "\n",
        "\n",
        "plt.ylabel('Number of diffusions')\n",
        "plt.xlabel('Number of itterations')\n",
        "plt.show()"
      ],
      "execution_count": 0,
      "outputs": []
    },
    {
      "cell_type": "code",
      "metadata": {
        "colab_type": "code",
        "id": "lgxxY5x02t2-",
        "colab": {}
      },
      "source": [
        "#uncomment below to plot only ICM\n",
        "# plt.title('Activations per itteration')\n",
        "# plt.plot(act_per_iter1)\n",
        "# plt.ylabel('Number of diffusions')\n",
        "# plt.xlabel('Number of itterations')\n",
        "# plt.show()\n",
        "\n",
        "#uncomment below to plot only ICM two step\n",
        "# plt.title('Activations per itteration')\n",
        "# plt.plot(act_per_iter2)\n",
        "# plt.ylabel('Number of diffusions')\n",
        "# plt.xlabel('Number of itterations')\n",
        "# plt.show()"
      ],
      "execution_count": 0,
      "outputs": []
    }
  ]
}