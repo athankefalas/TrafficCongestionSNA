{
  "nbformat": 4,
  "nbformat_minor": 0,
  "metadata": {
    "colab": {
      "name": "ICM&TwoStep&Heuristics.ipynb",
      "provenance": [],
      "collapsed_sections": [],
      "authorship_tag": "ABX9TyMVdrpq2xcX9oQ/ZGoeiHJr",
      "include_colab_link": true
    },
    "kernelspec": {
      "name": "python3",
      "display_name": "Python 3"
    },
    "accelerator": "GPU"
  },
  "cells": [
    {
      "cell_type": "markdown",
      "metadata": {
        "id": "view-in-github",
        "colab_type": "text"
      },
      "source": [
        "<a href=\"https://colab.research.google.com/github/athankefalas/TrafficCongestionSNA/blob/master/ICM%26TwoStep%26Heuristics.ipynb\" target=\"_parent\"><img src=\"https://colab.research.google.com/assets/colab-badge.svg\" alt=\"Open In Colab\"/></a>"
      ]
    },
    {
      "cell_type": "code",
      "metadata": {
        "id": "JKu1T2bFmVL_",
        "colab_type": "code",
        "colab": {}
      },
      "source": [
        "import networkx as nx\n",
        "import numpy as np\n",
        "import random\n",
        "import matplotlib.pyplot as plt"
      ],
      "execution_count": 0,
      "outputs": []
    },
    {
      "cell_type": "code",
      "metadata": {
        "id": "xTBRsE4V9fgm",
        "colab_type": "code",
        "outputId": "98c98254-bd88-49b8-d241-2f7eeff2abd6",
        "colab": {
          "base_uri": "https://localhost:8080/",
          "height": 35
        }
      },
      "source": [
        "#download graph from drive\n",
        "from google.colab import drive\n",
        "drive.mount('/content/drive')"
      ],
      "execution_count": 19,
      "outputs": [
        {
          "output_type": "stream",
          "text": [
            "Drive already mounted at /content/drive; to attempt to forcibly remount, call drive.mount(\"/content/drive\", force_remount=True).\n"
          ],
          "name": "stdout"
        }
      ]
    },
    {
      "cell_type": "code",
      "metadata": {
        "id": "w4X_pa0Y9m77",
        "colab_type": "code",
        "colab": {}
      },
      "source": [
        "file1 = '/content/drive/My Drive/SNA/Data/ia-email-univ/ia-email-univ.mtx' #google drive path\n",
        "file2 = '/content/drive/My Drive/SNA/Data/inf-euroroad/inf-euroroad.edges'\n",
        "file3 = '/content/drive/My Drive/SNA/Data/inf-power/inf-power.mtx'\n",
        "file4 = '/content/drive/My Drive/SNA/Data/soc-advogato/soc-advogato.edges'\n",
        "file5 = '/content/drive/My Drive/SNA/Data/socfb-Rochester38/socfb-Rochester38.mtx'\n",
        "file=file1\n",
        "g = nx.read_adjlist(file)"
      ],
      "execution_count": 0,
      "outputs": []
    },
    {
      "cell_type": "code",
      "metadata": {
        "id": "_Ch_vDXPx0QW",
        "colab_type": "code",
        "outputId": "4f8c2239-e34a-40fc-8517-f2be26ad0d73",
        "colab": {
          "base_uri": "https://localhost:8080/",
          "height": 72
        }
      },
      "source": [
        "#number of nodes\n",
        "nodes = len(g.nodes())\n",
        "print(\"The number of nodes is\",nodes)\n",
        "#number of edges\n",
        "edges = len(g.edges())\n",
        "print(\"The number of edges is\", edges)\n",
        "#max_degree\n",
        "max_degree=max(dict(g.degree()).items(), key = lambda x : x[1])[1]\n",
        "print(\"The maximum degree is:\", max_degree)\n",
        "\n"
      ],
      "execution_count": 21,
      "outputs": [
        {
          "output_type": "stream",
          "text": [
            "The number of nodes is 1139\n",
            "The number of edges is 5457\n",
            "The maximum degree is: 71\n"
          ],
          "name": "stdout"
        }
      ]
    },
    {
      "cell_type": "code",
      "metadata": {
        "id": "bzFWHlNO2uMj",
        "colab_type": "code",
        "colab": {}
      },
      "source": [
        "if not g.is_directed():\n",
        "    g = g.to_directed()"
      ],
      "execution_count": 0,
      "outputs": []
    },
    {
      "cell_type": "code",
      "metadata": {
        "id": "QAIptVUUBJro",
        "colab_type": "code",
        "outputId": "d7a587ff-c289-4971-f190-ce3df22e1b0c",
        "colab": {
          "base_uri": "https://localhost:8080/",
          "height": 72
        }
      },
      "source": [
        "\n",
        "#top five nodes with the highest degree centrality\n",
        "degree_centrality=nx.degree_centrality(g)\n",
        "sorted_degree_centrality=sorted(degree_centrality.items(), key=lambda x: x[1], reverse=True)[:5]\n",
        "top_degree_centrality_nodes=[i[0] for i in sorted_degree_centrality]\n",
        "print(\"The five nodes with the highest degree centrality scores are: \", top_degree_centrality_nodes)\n",
        "\n",
        "#top five nodes with the highest closeness centrality\n",
        "closeness_centrality=nx.closeness_centrality(g)\n",
        "sorted_closeness_centrality=sorted(closeness_centrality.items(), key=lambda x: x[1], reverse=True)[:5]\n",
        "top_closeness_centrality_nodes=[i[0] for i in sorted_closeness_centrality]\n",
        "print(\"The five nodes with the highest closeness centrality scores are: \", top_closeness_centrality_nodes)\n",
        "\n",
        "#top five nodes with the highest betweenness centrality\n",
        "betweenness_centrality=nx.betweenness_centrality(g)\n",
        "sorted_betweenness_centrality=sorted(betweenness_centrality.items(), key=lambda x: x[1], reverse=True)[:5]\n",
        "top_betweenness_centrality_nodes=[i[0] for i in sorted_betweenness_centrality]\n",
        "print(\"The five nodes with the highest betweenness centrality scores are: \", top_betweenness_centrality_nodes)"
      ],
      "execution_count": 23,
      "outputs": [
        {
          "output_type": "stream",
          "text": [
            "The five nodes with the highest degree centrality scores are:  ['105', '333', '16', '23', '42']\n",
            "The five nodes with the highest closeness centrality scores are:  ['333', '23', '105', '42', '41']\n",
            "The five nodes with the highest betweenness centrality scores are:  ['333', '105', '23', '578', '76']\n"
          ],
          "name": "stdout"
        }
      ]
    },
    {
      "cell_type": "code",
      "metadata": {
        "id": "s9Rzt1NCCGaN",
        "colab_type": "code",
        "outputId": "4d621630-450d-44a6-fce5-727d8fa5c57e",
        "colab": {
          "base_uri": "https://localhost:8080/",
          "height": 72
        }
      },
      "source": [
        "#nodes with the highest pagerank\n",
        "pageranked = nx.pagerank(g, alpha=0.85)\n",
        "sorted_pageranked = sorted(pageranked.items(), key=lambda x: x[1], reverse=True)[:5]\n",
        "top_pageranked_nodes = [i[0] for i in sorted_pageranked]\n",
        "print(\"The five nodes with the highest PageRank scores are: \", top_pageranked_nodes)\n",
        "#nodes with the highest hub scores(HITS Algorithm)\n",
        "hubscore = nx.hits(g)\n",
        "sorted_hubscore = sorted(hubscore[0].items(), key=lambda x: x[1], reverse=True)[:5]\n",
        "top_hubscore_nodes = [i[0] for i in sorted_hubscore]\n",
        "print(\"The five nodes with the highest hub scores are: \", top_hubscore_nodes)\n",
        "#nodes with the highest authority scores(HITS Algorithm)\n",
        "authorityscore = nx.hits(g)\n",
        "sorted_authorityscore = sorted(authorityscore[1].items(), key=lambda x: x[1], reverse=True)[:5]\n",
        "top_authorityscore_nodes = [i[0] for i in sorted_authorityscore]\n",
        "print(\"The five nodes with the highest authority scores are: \", top_authorityscore_nodes)"
      ],
      "execution_count": 24,
      "outputs": [
        {
          "output_type": "stream",
          "text": [
            "The five nodes with the highest PageRank scores are:  ['105', '23', '333', '41', '42']\n",
            "The five nodes with the highest hub scores are:  ['105', '16', '196', '204', '42']\n",
            "The five nodes with the highest authority scores are:  ['105', '16', '196', '204', '42']\n"
          ],
          "name": "stdout"
        }
      ]
    },
    {
      "cell_type": "code",
      "metadata": {
        "id": "8l6hiHWbWb57",
        "colab_type": "code",
        "colab": {}
      },
      "source": [
        "#FUNCTION to set activation RANDOM probabilities \n",
        "def set_activation_probabilities(G):\n",
        "  attr={}\n",
        "  for edge in G.edges():\n",
        "    attr.update( {edge : np.random.uniform(0.0, 0.2)})\n",
        "                                                 \n",
        "  nx.set_edge_attributes(G, attr, 'prob')\n",
        "  \n",
        "  return G"
      ],
      "execution_count": 0,
      "outputs": []
    },
    {
      "cell_type": "code",
      "metadata": {
        "id": "NNbP3MK4R_ed",
        "colab_type": "code",
        "colab": {}
      },
      "source": [
        "g=set_activation_probabilities(g)"
      ],
      "execution_count": 0,
      "outputs": []
    },
    {
      "cell_type": "code",
      "metadata": {
        "id": "Qk3e7wlkb7aW",
        "colab_type": "code",
        "colab": {}
      },
      "source": [
        "#FUNCTION for each iteration of diffusion process \n",
        "def diffusion_process(Graph,Seed,Visited):\n",
        "  iter_activations = set()   #this iteration's activations\n",
        "  iter_visits = set()        #this iteration's visits\n",
        "  for s in Seed:\n",
        "    for n in Graph.successors(s):  #successor of n is a node m such that there exists a directed edge from n to m\n",
        "      if (s, n) in Visited or (s, n) in iter_visits or  n in Seed:   #check if successor was visited before, or seed tried before\n",
        "        continue\n",
        "      \n",
        "      diffusion_prob = g[s][n]['prob']\n",
        "      activation_prob = np.random.uniform(0.0, 1.0)\n",
        "      activation = activation_prob >= (1.0-diffusion_prob)\n",
        "      \n",
        "      if activation:               \n",
        "        iter_activations.add(n)\n",
        "\n",
        "      iter_visits.add((s, n))\n",
        "\n",
        "  iter_activations = list(iter_activations)\n",
        "  Seed.extend(iter_activations)\n",
        "  return Seed, iter_activations, iter_visits"
      ],
      "execution_count": 0,
      "outputs": []
    },
    {
      "cell_type": "code",
      "metadata": {
        "id": "9jHl32muiWVJ",
        "colab_type": "code",
        "colab": {}
      },
      "source": [
        "#FUNCTION for ICM and two step ICM \n",
        "def ICM(g,seeds,num_iter,multi_step=False,step_iter=0):\n",
        "  visited_edges = set() \n",
        "  activated_nodes = []\n",
        "  num_nodes=[]\n",
        "  len_seeds=len(seeds)\n",
        "  \n",
        "  if multi_step==True:  #split the seed nodes to 2 groups for two step\n",
        "    \n",
        "    multi_seeds=seeds[len_seeds//2:]\n",
        "    seeds=seeds[0:len_seeds//2]\n",
        "    \n",
        "    print('Diffusion model : Two step ICM')\n",
        "    print('Starting diffusion for', num_iter,'iterations, with seed nodes:',seeds,'and additional seed nodes:',multi_seeds,'added at',step_iter,'iterations')\n",
        "  else:\n",
        "    print('Diffusion model : ICM')\n",
        "    print('Starting diffusion for', num_iter,'iterations, with starting seed nodes:',seeds)\n",
        "    \n",
        "  for s in seeds:\n",
        "    activated_nodes.append(s)\n",
        "  num_nodes.append(len_seeds)\n",
        "  \n",
        "  while True:\n",
        "    len_seeds=len(seeds)\n",
        "    \n",
        "    if multi_step==True and num_iter==step_iter: #activate multi_seeds\n",
        "      for s in multi_seeds:\n",
        "        seeds.append(s)\n",
        "      \n",
        "    seeds, iter_activations, iter_visits = diffusion_process(g, seeds, visited_edges)\n",
        "    \n",
        "    num_nodes.append(len(iter_activations))\n",
        "    \n",
        "    for i in iter_activations:\n",
        "      activated_nodes.append(i)\n",
        "    visited_edges = visited_edges.union(iter_visits)\n",
        "    \n",
        "    if len(seeds) == len_seeds:\n",
        "      break\n",
        "    len_seeds=len(seeds)\n",
        "    num_iter-= 1\n",
        "    if not num_iter or len(seeds) >= len(g):\n",
        "      break\n",
        "\n",
        "  return activated_nodes,num_nodes"
      ],
      "execution_count": 0,
      "outputs": []
    },
    {
      "cell_type": "code",
      "metadata": {
        "id": "V76NU2jT8nlW",
        "colab_type": "code",
        "outputId": "133f852a-2be5-4452-a9de-da07a92feed3",
        "colab": {
          "base_uri": "https://localhost:8080/",
          "height": 90
        }
      },
      "source": [
        "#simple ICM\n",
        "#create seed nodes\n",
        "seeds=top_betweenness_centrality_nodes[:5] \n",
        "#number of iterations\n",
        "num_iter=20\n",
        "act_n1,act_per_iter1=ICM(g,seeds,num_iter)\n",
        "print(\"Nodes activated:\",len(act_n1))\n",
        "#print(\"Activations per itteration\",act_per_iter1)\n",
        "print(\"Iterations occured:\",len(act_per_iter1)-1)\n",
        "# plt.title('Activations per itteration')\n",
        "# plt.plot(act_per_iter1)\n",
        "# plt.ylabel('Number of diffusions')\n",
        "# plt.xlabel('Number of itterations')\n",
        "# plt.show()"
      ],
      "execution_count": 38,
      "outputs": [
        {
          "output_type": "stream",
          "text": [
            "Diffusion model : ICM\n",
            "Starting diffusion for 20 iterations, with starting seed nodes: ['333', '105', '23', '578', '76']\n",
            "Nodes activated: 361\n",
            "Iterations occured: 16\n"
          ],
          "name": "stdout"
        }
      ]
    },
    {
      "cell_type": "code",
      "metadata": {
        "id": "BmKKEmoSRkJO",
        "colab_type": "code",
        "outputId": "c6bfe095-6c55-425c-9358-d502f7786239",
        "colab": {
          "base_uri": "https://localhost:8080/",
          "height": 90
        }
      },
      "source": [
        "#Two step ICM\n",
        "#create seed nodes\n",
        "seeds=top_betweenness_centrality_nodes[:5] \n",
        "#number of iterations\n",
        "num_iter=20\n",
        "act_n2,act_per_iter2=ICM(g,seeds,num_iter,multi_step=True,step_iter=6)\n",
        "print(\"Nodes activated:\",len(act_n2))\n",
        "#print(\"Activations per itteration\",act_per_iter2)\n",
        "print(\"Iterations occured:\",len(act_per_iter2)-1)\n",
        "\n",
        "# plt.title('Activations per itteration')\n",
        "# plt.plot(act_per_iter2)\n",
        "# plt.ylabel('Number of diffusions')\n",
        "# plt.xlabel('Number of itterations')\n",
        "# plt.show()"
      ],
      "execution_count": 39,
      "outputs": [
        {
          "output_type": "stream",
          "text": [
            "Diffusion model : Two step ICM\n",
            "Starting diffusion for 20 iterations, with seed nodes: ['333', '105'] and additional seed nodes: ['23', '578', '76'] added at 6 iterations\n",
            "Nodes activated: 417\n",
            "Iterations occured: 19\n"
          ],
          "name": "stdout"
        }
      ]
    },
    {
      "cell_type": "code",
      "metadata": {
        "id": "yZd4BUdN-NCS",
        "colab_type": "code",
        "outputId": "cc6354ff-4b09-4883-fd17-f381e7f0faee",
        "colab": {
          "base_uri": "https://localhost:8080/",
          "height": 404
        }
      },
      "source": [
        "plt.figure(figsize=(9,6))\n",
        "\n",
        "line_up,=plt.plot(act_per_iter1,'b', label='ICM')\n",
        "line_down,=plt.plot(act_per_iter2,'g', label='Two Step ICM')\n",
        "plt.legend(handles=[line_up, line_down])\n",
        "plt.title('Activations per itteration for')\n",
        "plt.ylabel('Number of diffusions')\n",
        "plt.xlabel('Number of itterations')\n",
        "plt.show()"
      ],
      "execution_count": 45,
      "outputs": [
        {
          "output_type": "display_data",
          "data": {
            "image/png": "[encoded data removed]",
            "text/plain": [
              "<Figure size 648x432 with 1 Axes>"
            ]
          },
          "metadata": {
            "tags": []
          }
        }
      ]
    },
    {
      "cell_type": "code",
      "metadata": {
        "id": "nCswThpt9qHN",
        "colab_type": "code",
        "colab": {}
      },
      "source": [
        ""
      ],
      "execution_count": 0,
      "outputs": []
    }
  ]
}
