{
  "nbformat": 4,
  "nbformat_minor": 0,
  "metadata": {
    "colab": {
      "name": "InfluenceMax_ICM_TwoStep.ipynb",
      "provenance": [],
      "authorship_tag": "ABX9TyNCcf4BHisaYLkD5KlHo/dw",
      "include_colab_link": true
    },
    "kernelspec": {
      "name": "python3",
      "display_name": "Python 3"
    },
    "accelerator": "GPU"
  },
  "cells": [
    {
      "cell_type": "markdown",
      "metadata": {
        "id": "view-in-github",
        "colab_type": "text"
      },
      "source": [
        "<a href=\"https://colab.research.google.com/github/athankefalas/TrafficCongestionSNA/blob/master/InfluenceMax_ICM_TwoStep.ipynb\" target=\"_parent\"><img src=\"https://colab.research.google.com/assets/colab-badge.svg\" alt=\"Open In Colab\"/></a>"
      ]
    },
    {
      "cell_type": "code",
      "metadata": {
        "id": "oyb-8I8nbVLZ",
        "colab_type": "code",
        "colab": {}
      },
      "source": [
        "import networkx as nx\n",
        "import numpy as np\n",
        "import random\n",
        "import itertools as itools"
      ],
      "execution_count": 0,
      "outputs": []
    },
    {
      "cell_type": "code",
      "metadata": {
        "id": "uaMtSMSbblSJ",
        "colab_type": "code",
        "outputId": "3709ba04-71f3-4d5f-bd39-7162d6d05c06",
        "colab": {
          "base_uri": "https://localhost:8080/",
          "height": 35
        }
      },
      "source": [
        "#download graph from drive\n",
        "from google.colab import drive\n",
        "drive.mount('/content/drive')"
      ],
      "execution_count": 56,
      "outputs": [
        {
          "output_type": "stream",
          "text": [
            "Drive already mounted at /content/drive; to attempt to forcibly remount, call drive.mount(\"/content/drive\", force_remount=True).\n"
          ],
          "name": "stdout"
        }
      ]
    },
    {
      "cell_type": "code",
      "metadata": {
        "id": "RjMWYv5bbsRY",
        "colab_type": "code",
        "colab": {}
      },
      "source": [
        "#make sure to provide the correct path for every graph\n",
        "file = '/content/drive/My Drive/SNA/Data/toy/toyroad.edges' #google drive path\n",
        "\n",
        "g = nx.readwrite.read_adjlist(file,comments=\"%\")"
      ],
      "execution_count": 0,
      "outputs": []
    },
    {
      "cell_type": "code",
      "metadata": {
        "id": "yB5SbNOZb22V",
        "colab_type": "code",
        "colab": {}
      },
      "source": [
        "#FUNCTION to set activation probabilities\n",
        "def set_activation_probabilities(G):\n",
        "  attr={}\n",
        "  for edge in G.edges():\n",
        "    attr.update( {edge : 0.1})\n",
        "                                                 \n",
        "  nx.set_edge_attributes(G, attr, 'prob')\n",
        "  \n",
        "  return G"
      ],
      "execution_count": 0,
      "outputs": []
    },
    {
      "cell_type": "code",
      "metadata": {
        "id": "RaSYDlXKb6NB",
        "colab_type": "code",
        "colab": {}
      },
      "source": [
        "#FUNCTION for each iteration of diffusion process \n",
        "def diffusion_process(Graph,Seed,Visited):\n",
        "  iter_activations = set()   #this iteration's activations\n",
        "  iter_visits = set()        #this iteration's visits\n",
        "  for s in Seed:\n",
        "    for n in Graph.successors(s):  #successor of n is a node m such that there exists a directed edge from n to m\n",
        "      if (s, n) in Visited or (s, n) in iter_visits or  n in Seed:   #check if successor was visited before, or seed tried before\n",
        "        continue\n",
        "      \n",
        "      diffusion_prob = g[s][n]['prob']\n",
        "      activation_prob = np.random.uniform(0.0, 1.0)\n",
        "      activation = activation_prob >= (1.0-diffusion_prob)\n",
        "      \n",
        "      if activation:               \n",
        "        iter_activations.add(n)\n",
        "\n",
        "      iter_visits.add((s, n))\n",
        "\n",
        "  iter_activations = list(iter_activations)\n",
        "  Seed.extend(iter_activations)\n",
        "  return Seed, iter_activations, iter_visits"
      ],
      "execution_count": 0,
      "outputs": []
    },
    {
      "cell_type": "code",
      "metadata": {
        "id": "W0SlZgHub9A-",
        "colab_type": "code",
        "colab": {}
      },
      "source": [
        "#FUNCTION for ICM and two step ICM \n",
        "def ICM(g,start_seeds,num_iter,multi_step=False,step_iter=0):\n",
        "  visited_edges = set() \n",
        "  activated_nodes = []\n",
        "  num_nodes=[]\n",
        "  \n",
        "  \n",
        "  if multi_step==True:  #split the seed nodes to 2 groups for two step\n",
        "    \n",
        "    multi_seeds=start_seeds[len(start_seeds)//2:]\n",
        "    seeds=start_seeds[0:len(start_seeds)//2]\n",
        "    \n",
        "    \n",
        "  else:\n",
        "    seeds=start_seeds\n",
        "      \n",
        "  len_seeds=len(seeds)\n",
        "    \n",
        "  for s in seeds:\n",
        "    activated_nodes.append(s)\n",
        "  num_nodes.append(len_seeds)\n",
        "  \n",
        "  while True:\n",
        "    len_seeds=len(seeds)\n",
        "    \n",
        "    if multi_step==True and num_iter==step_iter: #activate multi_seeds\n",
        "      for s in multi_seeds:\n",
        "        seeds.append(s)\n",
        "      \n",
        "    seeds, iter_activations, iter_visits = diffusion_process(g, seeds, visited_edges)\n",
        "    \n",
        "    num_nodes.append(len(iter_activations))\n",
        "    \n",
        "    for i in iter_activations:\n",
        "      activated_nodes.append(i)\n",
        "    visited_edges = visited_edges.union(iter_visits)\n",
        "    \n",
        "    if len(seeds) == len_seeds:\n",
        "      break\n",
        "    len_seeds=len(seeds)\n",
        "    num_iter-= 1\n",
        "    if not num_iter or len(seeds) >= len(g):\n",
        "      break\n",
        "\n",
        "  return activated_nodes"
      ],
      "execution_count": 0,
      "outputs": []
    },
    {
      "cell_type": "code",
      "metadata": {
        "id": "09rhGYeEbg1p",
        "colab_type": "code",
        "colab": {}
      },
      "source": [
        "def maximize_diffusion(road_net, nodes, budget, iter_count=100):\n",
        "    candidate_seeds = set()\n",
        "\n",
        "    # get sets of candidate seeds\n",
        "    for combination in itools.combinations(nodes, budget):\n",
        "        seeds = set(combination)\n",
        "\n",
        "        if len(seeds) != budget:\n",
        "            continue\n",
        "\n",
        "        candidate_seeds.add(tuple(seeds))\n",
        "\n",
        "    max_affected = 0\n",
        "    optimal_seeds = tuple()\n",
        "\n",
        "    # find the set of seeds that maximizes the diffusion\n",
        "    for seeds in candidate_seeds:\n",
        "        affected_avg = 0.0\n",
        "        \n",
        "        for n in range(0, iter_count):\n",
        "          \n",
        "          affected = ICM(road_net, list(seeds),num_iter=20)\n",
        "          affected_avg += len(affected)\n",
        "          \n",
        "        affected_avg = affected_avg / iter_count\n",
        "\n",
        "        if affected_avg >= max_affected:\n",
        "            max_affected = affected_avg\n",
        "            optimal_seeds = seeds\n",
        "\n",
        "    return list(optimal_seeds)"
      ],
      "execution_count": 0,
      "outputs": []
    },
    {
      "cell_type": "code",
      "metadata": {
        "id": "NKcjAv2Np-pK",
        "colab_type": "code",
        "colab": {}
      },
      "source": [
        "def minimize_diffusion(road_net, nodes, budget, iter_count=100):\n",
        "    candidate_seeds = set()\n",
        "\n",
        "    # get sets of candidate seeds\n",
        "    for combination in itools.combinations(nodes, budget):\n",
        "        seeds = set(combination)\n",
        "\n",
        "        if len(seeds) != budget:\n",
        "            continue\n",
        "\n",
        "        candidate_seeds.add(tuple(seeds))\n",
        "\n",
        "    min_affected = len(nodes)\n",
        "    optimal_seeds = tuple()\n",
        "\n",
        "    # find the set of seeds that minimizes the diffusion\n",
        "    for seeds in candidate_seeds:\n",
        "        affected_avg = 0.0\n",
        "\n",
        "        for n in range(0, iter_count):\n",
        "\n",
        "            affected = ICM(road_net, list(seeds),num_iter=20)\n",
        "            affected_avg += len(affected)\n",
        "\n",
        "        affected_avg = affected_avg / iter_count\n",
        "\n",
        "        if affected_avg <= min_affected:\n",
        "            min_affected = affected_avg\n",
        "            optimal_seeds = seeds\n",
        "\n",
        "    return list(optimal_seeds)"
      ],
      "execution_count": 0,
      "outputs": []
    },
    {
      "cell_type": "code",
      "metadata": {
        "id": "b8YXl5FFpTvg",
        "colab_type": "code",
        "colab": {}
      },
      "source": [
        "g=set_activation_probabilities(g)"
      ],
      "execution_count": 0,
      "outputs": []
    },
    {
      "cell_type": "code",
      "metadata": {
        "id": "2chfOOjtptTg",
        "colab_type": "code",
        "colab": {}
      },
      "source": [
        "if not g.is_directed():\n",
        "    g = g.to_directed()"
      ],
      "execution_count": 0,
      "outputs": []
    },
    {
      "cell_type": "code",
      "metadata": {
        "id": "CQigCDbypvQN",
        "colab_type": "code",
        "colab": {}
      },
      "source": [
        "nodes = list(set(nx.nodes(g)))"
      ],
      "execution_count": 0,
      "outputs": []
    },
    {
      "cell_type": "code",
      "metadata": {
        "id": "6w2uAdhFpxX_",
        "colab_type": "code",
        "colab": {}
      },
      "source": [
        "critical_nodes_count=3"
      ],
      "execution_count": 0,
      "outputs": []
    },
    {
      "cell_type": "code",
      "metadata": {
        "id": "-lapCzbCdYaG",
        "colab_type": "code",
        "outputId": "b6bd22da-ee47-427d-de47-8eaecc659554",
        "colab": {
          "base_uri": "https://localhost:8080/",
          "height": 35
        }
      },
      "source": [
        "print(\"Finding optimal intersections to handle high traffic...\")\n",
        "optimal_max = maximize_diffusion(g, nodes, critical_nodes_count,iter_count=2000)"
      ],
      "execution_count": 73,
      "outputs": [
        {
          "output_type": "stream",
          "text": [
            "Finding optimal intersections to handle high traffic...\n"
          ],
          "name": "stdout"
        }
      ]
    },
    {
      "cell_type": "code",
      "metadata": {
        "id": "8pCYkKeWi1z3",
        "colab_type": "code",
        "outputId": "62a50102-f376-4907-8bc5-867d93b90332",
        "colab": {
          "base_uri": "https://localhost:8080/",
          "height": 35
        }
      },
      "source": [
        "print(\"Low traffic when congestion starts from:\", optimal_max)"
      ],
      "execution_count": 74,
      "outputs": [
        {
          "output_type": "stream",
          "text": [
            "Low traffic when congestion starts from: ['10', '2', '5']\n"
          ],
          "name": "stdout"
        }
      ]
    },
    {
      "cell_type": "code",
      "metadata": {
        "id": "g8cGvLjdi24i",
        "colab_type": "code",
        "colab": {
          "base_uri": "https://localhost:8080/",
          "height": 35
        },
        "outputId": "10d05644-a737-4a2b-9777-ccce32663619"
      },
      "source": [
        "print(\"Finding worst intersections to handle high traffic...\")\n",
        "optimal_min = minimize_diffusion(g, nodes, critical_nodes_count,iter_count=2000)"
      ],
      "execution_count": 80,
      "outputs": [
        {
          "output_type": "stream",
          "text": [
            "Finding worst intersections to handle high traffic...\n"
          ],
          "name": "stdout"
        }
      ]
    },
    {
      "cell_type": "code",
      "metadata": {
        "id": "LncWWC3zqvAg",
        "colab_type": "code",
        "colab": {
          "base_uri": "https://localhost:8080/",
          "height": 35
        },
        "outputId": "6141c69a-35bc-4a43-f97f-80b4b2494918"
      },
      "source": [
        "print(\"High traffic when congestion starts from:\", optimal_min)"
      ],
      "execution_count": 81,
      "outputs": [
        {
          "output_type": "stream",
          "text": [
            "High traffic when congestion starts from: ['14', '15', '5']\n"
          ],
          "name": "stdout"
        }
      ]
    }
  ]
}
